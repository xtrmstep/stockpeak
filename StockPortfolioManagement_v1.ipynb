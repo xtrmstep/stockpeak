{
  "nbformat": 4,
  "nbformat_minor": 0,
  "metadata": {
    "colab": {
      "name": "StockPortfolioManagement_v1",
      "provenance": [],
      "toc_visible": true,
      "authorship_tag": "ABX9TyMVIrFDn3fSAwOkBgt+HcrL",
      "include_colab_link": true
    },
    "kernelspec": {
      "name": "python3",
      "display_name": "Python 3"
    },
    "language_info": {
      "name": "python"
    }
  },
  "cells": [
    {
      "cell_type": "markdown",
      "metadata": {
        "id": "view-in-github",
        "colab_type": "text"
      },
      "source": [
        "<a href=\"https://colab.research.google.com/github/xtrmstep/stockpeak/blob/main/StockPortfolioManagement_v1.ipynb\" target=\"_parent\"><img src=\"https://colab.research.google.com/assets/colab-badge.svg\" alt=\"Open In Colab\"/></a>"
      ]
    },
    {
      "cell_type": "markdown",
      "source": [
        "Components of the solution:\n",
        "\n",
        "\n",
        "*   Find similar stocks in the industry area, to the given one\n",
        "*   Find stocks in the list of similar, which performed better, than the given one\n",
        "*   Recalculation of portfolio allocation based on the current stock prices\n",
        "*   Find similar portfolio for a given one\n",
        "*   Find portfolio, which performed better, than the given one\n",
        "*   Calculate adjustment of a portfolio (buy,sell) to another one, with the given alloction by stocks, portfolios of the same size\n",
        "*   Calculate adjustment of a portfolio (buy,sell) to another one of different size, with the given alloction by industry sections, portfolios of the same size\n",
        "Calculate adjustment of a portfolio (buy,sell) to another one of different size, with the given alloction by industry sections, portfolios of different size\n"
      ],
      "metadata": {
        "id": "49fVmFyUrCOO"
      }
    },
    {
      "cell_type": "code",
      "execution_count": null,
      "metadata": {
        "id": "GoSXcuwoktDi"
      },
      "outputs": [],
      "source": [
        ""
      ]
    }
  ]
}